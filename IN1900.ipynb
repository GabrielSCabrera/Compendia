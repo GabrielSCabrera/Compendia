{
 "cells": [
  {
   "cell_type": "markdown",
   "metadata": {},
   "source": [
    "# Review\n",
    "## The Basics\n",
    "\n",
    "### Hello World!\n",
    "\n",
    "Traditionally, the first thing one learns is how to print the message `Hello World!` to the terminal.  This can be accomplished with one line of code:"
   ]
  },
  {
   "cell_type": "code",
   "execution_count": 1,
   "metadata": {},
   "outputs": [
    {
     "name": "stdout",
     "output_type": "stream",
     "text": [
      "Hello World!\n"
     ]
    }
   ],
   "source": [
    "print(\"Hello World!\")"
   ]
  },
  {
   "cell_type": "markdown",
   "metadata": {},
   "source": [
    "We can also print numbers to the terminal without using quotes"
   ]
  },
  {
   "cell_type": "code",
   "execution_count": 2,
   "metadata": {},
   "outputs": [
    {
     "name": "stdout",
     "output_type": "stream",
     "text": [
      "42\n"
     ]
    }
   ],
   "source": [
    "print(42)"
   ]
  },
  {
   "cell_type": "markdown",
   "metadata": {},
   "source": [
    "Or a bunch of stuff, just separate them with commas:"
   ]
  },
  {
   "cell_type": "code",
   "execution_count": 3,
   "metadata": {},
   "outputs": [
    {
     "name": "stdout",
     "output_type": "stream",
     "text": [
      "The answer to life, the universe, and everything is 42\n"
     ]
    }
   ],
   "source": [
    "print(\"The answer to life, the universe, and everything is\", 42)"
   ]
  },
  {
   "cell_type": "markdown",
   "metadata": {},
   "source": [
    "### A Note on Printing\n",
    "\n",
    "Whatever you write inside the quotes, will be printed to the terminal.  However, be careful when trying to print quotation marks – say we wish to print out `\"A Clever Quote\"`"
   ]
  },
  {
   "cell_type": "code",
   "execution_count": 4,
   "metadata": {},
   "outputs": [
    {
     "ename": "SyntaxError",
     "evalue": "invalid syntax (<ipython-input-4-ab721fb81ef2>, line 1)",
     "output_type": "error",
     "traceback": [
      "\u001b[0;36m  File \u001b[0;32m\"<ipython-input-4-ab721fb81ef2>\"\u001b[0;36m, line \u001b[0;32m1\u001b[0m\n\u001b[0;31m    print(\"\"A Clever Quote\"\")\u001b[0m\n\u001b[0m            ^\u001b[0m\n\u001b[0;31mSyntaxError\u001b[0m\u001b[0;31m:\u001b[0m invalid syntax\n"
     ]
    }
   ],
   "source": [
    "print(\"\"A Clever Quote\"\")"
   ]
  },
  {
   "cell_type": "markdown",
   "metadata": {},
   "source": [
    "This does not work out, since the interpreter thinks we are ending the *string* of text when it sees two quotation marks.  We can fix this in a few ways.\n",
    "\n",
    "One solution is to alternate quotes – python accepts either `\"` or `'` so the following is possible:"
   ]
  },
  {
   "cell_type": "code",
   "execution_count": 6,
   "metadata": {},
   "outputs": [
    {
     "name": "stdout",
     "output_type": "stream",
     "text": [
      "\"A Clever Quote\"\n"
     ]
    }
   ],
   "source": [
    "print('\"A Clever Quote\"')"
   ]
  },
  {
   "cell_type": "markdown",
   "metadata": {},
   "source": [
    "We can also tell the interpreter to ignore the quotation mark as a *command*, and just treat it as a character, by writing `\\\"` instead of `\"`:"
   ]
  },
  {
   "cell_type": "code",
   "execution_count": 7,
   "metadata": {},
   "outputs": [
    {
     "name": "stdout",
     "output_type": "stream",
     "text": [
      "\"A Clever Quote\"\n"
     ]
    }
   ],
   "source": [
    "print(\"\\\"A Clever Quote\\\"\")"
   ]
  },
  {
   "cell_type": "markdown",
   "metadata": {},
   "source": [
    "### Math\n",
    "\n",
    "You can do math in python:"
   ]
  },
  {
   "cell_type": "code",
   "execution_count": 8,
   "metadata": {},
   "outputs": [
    {
     "name": "stdout",
     "output_type": "stream",
     "text": [
      "   2+3 = 5\n",
      "60-2.3 = 57.7\n",
      "-4*0.1 = -0.4\n",
      "100/10 = 10.0\n",
      "  3**2 = 9\n"
     ]
    }
   ],
   "source": [
    "print(\"   2+3 =\", 2+3)            #Addition\n",
    "print(\"60-2.3 =\", 60-2.3)      #Subtraction\n",
    "print(\"-4*0.1 =\", -4*0.1)      #Multiplication\n",
    "print(\"100/10 =\", 100/10)      #Division\n",
    "print(\"  3**2 =\", 3**2)          #Exponentiation"
   ]
  },
  {
   "cell_type": "markdown",
   "metadata": {},
   "source": [
    "There are other useful things you can do, such as **rounding**"
   ]
  },
  {
   "cell_type": "code",
   "execution_count": 9,
   "metadata": {},
   "outputs": [
    {
     "name": "stdout",
     "output_type": "stream",
     "text": [
      "round(4.5) = 4\n",
      "round(4.500000001) = 5\n"
     ]
    }
   ],
   "source": [
    "print(\"round(4.5) =\", round(4.5))\n",
    "print(\"round(4.500000001) =\", round(4.500000001))"
   ]
  },
  {
   "cell_type": "markdown",
   "metadata": {},
   "source": [
    "You can perform **integer division** with `//` and find *remainders* using the **modulo operator** `%`:"
   ]
  },
  {
   "cell_type": "code",
   "execution_count": 10,
   "metadata": {},
   "outputs": [
    {
     "name": "stdout",
     "output_type": "stream",
     "text": [
      "10//2 = 5 and 10%2 = 0\n",
      "10//3 = 3 and 10%3 = 1\n",
      "10//4 = 2 and 10%4 = 2\n",
      "10//5 = 2 and 10%5 = 0\n"
     ]
    }
   ],
   "source": [
    "print(\"10//2 =\", 10//2, \"and 10%2 =\", 10%2)\n",
    "print(\"10//3 =\", 10//3, \"and 10%3 =\", 10%3)\n",
    "print(\"10//4 =\", 10//4, \"and 10%4 =\", 10%4)\n",
    "print(\"10//5 =\", 10//5, \"and 10%5 =\", 10%5)"
   ]
  },
  {
   "cell_type": "markdown",
   "metadata": {},
   "source": [
    "You can also use scientific notation directly, say you want to write a number of the form: $a \\cdot 10 ^ {b}$.  In python, this takes the form `aEb` or `aeb`.\n",
    "\n",
    "For example, the number $5.32 \\cdot 10^{-2}$ would be written `5.32e-2` or `5.32E-2`"
   ]
  },
  {
   "cell_type": "code",
   "execution_count": 11,
   "metadata": {},
   "outputs": [
    {
     "name": "stdout",
     "output_type": "stream",
     "text": [
      "0.0532\n"
     ]
    }
   ],
   "source": [
    "print(5.32E-2)"
   ]
  },
  {
   "cell_type": "markdown",
   "metadata": {},
   "source": [
    "In other words, **DO NOT DO THIS:**"
   ]
  },
  {
   "cell_type": "code",
   "execution_count": 12,
   "metadata": {},
   "outputs": [
    {
     "name": "stdout",
     "output_type": "stream",
     "text": [
      "0.053200000000000004\n"
     ]
    }
   ],
   "source": [
    "print(5.32*10**(-2))"
   ]
  },
  {
   "cell_type": "markdown",
   "metadata": {},
   "source": [
    "The above is what we call *unpythonic*, and it will make people mad \n",
    "😠.  Keep people happy, and use the correct notation 😄!"
   ]
  },
  {
   "cell_type": "markdown",
   "metadata": {},
   "source": [
    "### Variables\n",
    "\n",
    "Instead of printing everything all the time, we can save \"stuff\" (*numbers*, *words*, etc...) by assigning a value to a *variable*.\n",
    "\n",
    "In mathematics, it is common to assign values to variables such as $x$ or $y$; this can be accomplished easily in python:"
   ]
  },
  {
   "cell_type": "code",
   "execution_count": 13,
   "metadata": {},
   "outputs": [],
   "source": [
    "x = 238"
   ]
  },
  {
   "cell_type": "markdown",
   "metadata": {},
   "source": [
    "We've now created the variable `x` with the value `238`, respectively.  This means we can print their *values* through their *variable names*:"
   ]
  },
  {
   "cell_type": "code",
   "execution_count": 14,
   "metadata": {},
   "outputs": [
    {
     "name": "stdout",
     "output_type": "stream",
     "text": [
      "x = 238\n"
     ]
    }
   ],
   "source": [
    "print(\"x =\", x)\n"
   ]
  },
  {
   "cell_type": "markdown",
   "metadata": {},
   "source": [
    "Variables can also contain text, and can be made up of multiple characters:"
   ]
  },
  {
   "cell_type": "code",
   "execution_count": 15,
   "metadata": {},
   "outputs": [],
   "source": [
    "question_0 = \"What did one Uranium\"\n",
    "question_1 = \"nucleus say to the other?\"\n",
    "\n",
    "answer = \"Gotta split!\""
   ]
  },
  {
   "cell_type": "markdown",
   "metadata": {},
   "source": [
    "And as previously, these can all be printed together:"
   ]
  },
  {
   "cell_type": "code",
   "execution_count": 16,
   "metadata": {},
   "outputs": [
    {
     "name": "stdout",
     "output_type": "stream",
     "text": [
      "What did one Uranium 238 nucleus say to the other?\n",
      "Gotta split!\n"
     ]
    }
   ],
   "source": [
    "print(question_0, x, question_1)\n",
    "print(answer)"
   ]
  },
  {
   "cell_type": "markdown",
   "metadata": {},
   "source": [
    "Finally, it is important to note that you can save the output of a mathematical operation to a variable, and you can use one variable to declare another:"
   ]
  },
  {
   "cell_type": "code",
   "execution_count": 17,
   "metadata": {},
   "outputs": [
    {
     "name": "stdout",
     "output_type": "stream",
     "text": [
      "8\n",
      "-62\n"
     ]
    }
   ],
   "source": [
    "x = 5 + 3\n",
    "y = 2 - x**2\n",
    "\n",
    "print(x)\n",
    "print(y)"
   ]
  },
  {
   "cell_type": "markdown",
   "metadata": {},
   "source": [
    "### Types\n",
    "\n",
    "We've discussed how to display *words* and how to evaluate *numbers*, but this terminology will not get us far.  We will need more specific terms:\n",
    "\n",
    "| Type | Description | Ex. 1 | Ex. 2 | Ex. 3 |\n",
    "|-------|-------|-------|-------|-------|\n",
    "| `int` | A mathematical *integer* - any positive or negative number *without* a decimal point | `50 `| `0` | `-3` |\n",
    "| `float` | A mathematical *real number* - any positive or negative number *with* a decimal point | `1.0` | `-32.75` | `5.32E-2` |\n",
    "| `str` | A set of `UTF-8` characters called a **string** | `\"Hello World!\"` | `'0.01'` | `\"\"` |\n",
    "| `bool` | A **boolean** – can either be *true* or *false*. Related to the binary `1` and `0` respectively | `True` | `False`|  |\n",
    "\n",
    "You can check what the `type` of a variable (we will use `x` as an example) is by calling the function `type(x)`"
   ]
  },
  {
   "cell_type": "code",
   "execution_count": 18,
   "metadata": {},
   "outputs": [
    {
     "name": "stdout",
     "output_type": "stream",
     "text": [
      "type(x) = <class 'int'>\n",
      "type(y) = <class 'float'>\n",
      "type(z) = <class 'str'>\n",
      "type(w) = <class 'bool'>\n"
     ]
    }
   ],
   "source": [
    "x = 5\n",
    "y = 2.3\n",
    "z = \"Ayylmao\"\n",
    "w = True\n",
    "\n",
    "print(\"type(x) =\", type(x))\n",
    "print(\"type(y) =\", type(y))\n",
    "print(\"type(z) =\", type(z))\n",
    "print(\"type(w) =\", type(w))"
   ]
  },
  {
   "cell_type": "markdown",
   "metadata": {},
   "source": [
    "There exist many more `types` in python, some of which we will encounter soon enough.\n",
    "\n",
    "### Type Conversion\n",
    "\n",
    "Sometimes, you can take a value and convert it to another type.  For example, you can take a `float` of the form `1.0` and convert it to an `int` since it is a whole number:"
   ]
  },
  {
   "cell_type": "code",
   "execution_count": 19,
   "metadata": {},
   "outputs": [
    {
     "name": "stdout",
     "output_type": "stream",
     "text": [
      "<class 'float'>\n",
      "<class 'int'>\n"
     ]
    }
   ],
   "source": [
    "x = 1.0\n",
    "print(type(x))\n",
    "x = int(x)\n",
    "print(type(x))"
   ]
  },
  {
   "cell_type": "markdown",
   "metadata": {},
   "source": [
    "You can also take numeric strings such as `\"1.5\"` or `3` and convert them to numeric types:"
   ]
  },
  {
   "cell_type": "code",
   "execution_count": 20,
   "metadata": {},
   "outputs": [
    {
     "name": "stdout",
     "output_type": "stream",
     "text": [
      "<class 'str'>\n",
      "<class 'str'>\n",
      "<class 'float'>\n",
      "<class 'int'>\n"
     ]
    }
   ],
   "source": [
    "x = \"1.5\"\n",
    "y = \"3\"\n",
    "\n",
    "print(type(x))\n",
    "print(type(y))\n",
    "\n",
    "x = float(x)\n",
    "y = int(y)\n",
    "\n",
    "print(type(x))\n",
    "print(type(y))"
   ]
  },
  {
   "cell_type": "markdown",
   "metadata": {},
   "source": [
    "It is important to know what `type` of values you are working with, because mathematical operations are not possible between strings *unless* you first convert the strings in question to numeric variables.\n",
    "\n",
    "On a final note, you can also convert back to a string from a number:"
   ]
  },
  {
   "cell_type": "code",
   "execution_count": 21,
   "metadata": {},
   "outputs": [
    {
     "name": "stdout",
     "output_type": "stream",
     "text": [
      "<class 'int'>\n",
      "<class 'str'>\n"
     ]
    }
   ],
   "source": [
    "x = 123\n",
    "print(type(x))\n",
    "x = str(x)\n",
    "print(type(x))"
   ]
  },
  {
   "cell_type": "markdown",
   "metadata": {},
   "source": [
    "## String Formatting\n",
    "\n",
    "We will often need to print output to the terminal consisting of text and variable values.  To accomplish this, there are a few methods which are listed in *least*-desirable to *most*-desirable order.\n",
    "\n",
    "We will be looking at the same example using each method, this being the printing of a string `The first answer is 10, the second is N/A, and the third is 12.5`.  We are given the variables:"
   ]
  },
  {
   "cell_type": "code",
   "execution_count": 22,
   "metadata": {},
   "outputs": [],
   "source": [
    "answer_1 = 10\n",
    "answer_2 = \"N/A\"\n",
    "answer_3 = 12.5"
   ]
  },
  {
   "cell_type": "markdown",
   "metadata": {},
   "source": [
    "### Old Formatting Style\n",
    "\n",
    "The oldest method of using `%` symbols to denote variable positions in strings is included in this text because it is legacy code you might come across, but it is not recommended you use this:"
   ]
  },
  {
   "cell_type": "code",
   "execution_count": 23,
   "metadata": {},
   "outputs": [
    {
     "name": "stdout",
     "output_type": "stream",
     "text": [
      "The first answer is 10, the second answer is N/A, and the third is 12.500000\n"
     ]
    }
   ],
   "source": [
    "print(\"The first answer is %d, the second answer is %s, and the third is %f\" % (answer_1, answer_2, answer_3))"
   ]
  },
  {
   "cell_type": "markdown",
   "metadata": {},
   "source": [
    "So each `%` symbol *within* the quotation marks is linked to the variables in the parentheses after the *external* `%` symbol, respectively.\n",
    "\n",
    "In addition to this, note that each `%` has a single character on it's right, denoting the type of variable it should display.  `d` represents an `int` value, while `s` represents a `str` value, and `f` represents a `float`.\n",
    "\n",
    "### New Formatting Style\n",
    "\n",
    "Although it is called the *new* formatting style, there is a superior, newer method we will explore in the next subsection.  Nevertheless, new-style formatting works similarly to old-style formatting:"
   ]
  },
  {
   "cell_type": "code",
   "execution_count": 24,
   "metadata": {},
   "outputs": [
    {
     "name": "stdout",
     "output_type": "stream",
     "text": [
      "The first answer is 10, the second answer is N/A, and the third is 12.5\n"
     ]
    }
   ],
   "source": [
    "print(\"The first answer is {}, the second answer is {}, and the third is {}\".format(answer_1, answer_2, answer_3))"
   ]
  },
  {
   "cell_type": "markdown",
   "metadata": {},
   "source": [
    "Here, we use `{}` to represent values-to-replace instead of `%`.  In addition, note that we do not need to specify the `type` of value we wish to display.\n",
    "\n",
    "### F-strings\n",
    "\n",
    "The newest way to accomplish string formatting is by using *f-string* syntax.  This method is the fastest and easiest way to format strings, so it is highly recommended you learn this above the other methods:"
   ]
  },
  {
   "cell_type": "code",
   "execution_count": 25,
   "metadata": {},
   "outputs": [
    {
     "name": "stdout",
     "output_type": "stream",
     "text": [
      "The first answer is 10, the second answer is N/A, and the third is 12.5\n"
     ]
    }
   ],
   "source": [
    "print(f\"The first answer is {answer_1}, the second answer is {answer_2}, and the third is {answer_3}\")"
   ]
  },
  {
   "cell_type": "markdown",
   "metadata": {},
   "source": [
    "Note that we precede the entire string with a character `f` to denote the usage of *f-string* syntax, and that the variable names we wish to display are directly placed within the curly braces `{}`.\n",
    "\n",
    "A lot of good information is available at this website: https://pyformat.info/"
   ]
  },
  {
   "cell_type": "markdown",
   "metadata": {},
   "source": [
    "## Boolean Logic\n",
    "\n",
    "So far, we've dealt with *math* but we haven't dealt with *logic*.  In programming, we often need to evaluate whether certain **conditions** are `True` or `False`.  This is simple when considering simple situations such as $x > y$ or $x \\leq y$.  For example, if $x = 5$ and $y = 6$, the first statement would be considered `False`, while the other would be considered `True`.\n",
    "\n",
    "In python, these examples would be written as follows:"
   ]
  },
  {
   "cell_type": "code",
   "execution_count": 26,
   "metadata": {},
   "outputs": [
    {
     "name": "stdout",
     "output_type": "stream",
     "text": [
      "False\n",
      "True\n"
     ]
    }
   ],
   "source": [
    "condition_1 = 5 > 6\n",
    "condition_2 = 5 <= 6\n",
    "print(condition_1)\n",
    "print(condition_2)"
   ]
  },
  {
   "cell_type": "markdown",
   "metadata": {},
   "source": [
    "Before continuing, we need to know the following boolean comparators:\n",
    "\n",
    "| Operator | Description | Math Equivalent |\n",
    "|-------|-------|-------|\n",
    "| `x > y` | Is $x$ greater than $y$ | $x > y$ |\n",
    "| `x >= y` | Is $x$ greater than or equal to $y$ | $x \\geq y$ |\n",
    "| `x < y` | Is $x$ less than $y$ | $x < y$ |\n",
    "| `x <= y` | Is $x$ less than or equal to $y$ | $x \\leq y$ |\n",
    "| `x == y` | Is $x$ equal to $y$ |  |\n",
    "| `x != y` | Is $x$ not equal to $y$ | |\n",
    "\n",
    "All of these result in either `True` or `False` values.\n",
    "\n",
    "Now, the tricky part in logic is when we need to combine these.  For example, what if we wish to know if a variable $x$ is between the values $0$ and $10$?  We can use the `and` operator to combine two conditions to accomplish this:"
   ]
  },
  {
   "cell_type": "code",
   "execution_count": 27,
   "metadata": {},
   "outputs": [
    {
     "name": "stdout",
     "output_type": "stream",
     "text": [
      "True\n",
      "False\n"
     ]
    }
   ],
   "source": [
    "x_1 = 7\n",
    "x_2 = 11\n",
    "\n",
    "condition_1 = x_1 > 0 and x_1 < 10\n",
    "condition_2 = x_2 > 0 and x_2 < 10\n",
    "\n",
    "print(condition_1)\n",
    "print(condition_2)"
   ]
  },
  {
   "cell_type": "markdown",
   "metadata": {},
   "source": [
    "Alternatively, what if we wish to know if a number is either *greater* than $9$, or if it is *less than* $1$?"
   ]
  },
  {
   "cell_type": "code",
   "execution_count": 28,
   "metadata": {},
   "outputs": [
    {
     "name": "stdout",
     "output_type": "stream",
     "text": [
      "False\n",
      "True\n"
     ]
    }
   ],
   "source": [
    "x_1 = 7\n",
    "x_2 = 11\n",
    "\n",
    "condition_1 = x_1 < 1 or x_1 > 9\n",
    "condition_2 = x_2 < 1 or x_2 > 9\n",
    "\n",
    "print(condition_1)\n",
    "print(condition_2)"
   ]
  },
  {
   "cell_type": "markdown",
   "metadata": {},
   "source": [
    "To summarize the relationships between boolean values and their operators, we can use a **truth-table** to grasp how these operators behave:\n",
    "\n",
    "| `and`  | `True`  | `False` |\n",
    "|--------|---------|---------|\n",
    "| `True` | `True`  | `False` |\n",
    "| `False`| `False` | `False` |\n",
    "\n",
    "| `or`  | `True`  | `False` |\n",
    "|--------|---------|---------|\n",
    "| `True` | `True`  | `True` |\n",
    "| `False`| `True` | `False` |"
   ]
  },
  {
   "cell_type": "markdown",
   "metadata": {},
   "source": [
    "In `python`, the above tables signify the following relations:"
   ]
  },
  {
   "cell_type": "code",
   "execution_count": 29,
   "metadata": {},
   "outputs": [
    {
     "name": "stdout",
     "output_type": "stream",
     "text": [
      "True False\n",
      "False False\n",
      "\n",
      "True True\n",
      "True False\n"
     ]
    }
   ],
   "source": [
    "print(True and True, True and False)\n",
    "print(False and True, False and False)\n",
    "print()\n",
    "print(True or True, True or False)\n",
    "print(False or True, False or False)"
   ]
  },
  {
   "cell_type": "markdown",
   "metadata": {},
   "source": [
    "## Trigonometric Functions and More\n",
    "### Importing\n",
    "\n",
    "If you need *functions* that aren't included in \"vanilla\" python, such as `cos`, `sin`, `e`, `pi`, `exp`, `sqrt`, or `log`, you need to import a *module* or *package*.\n",
    "\n",
    "If you try to use one of these functions without first importing, a problem arises:"
   ]
  },
  {
   "cell_type": "code",
   "execution_count": 30,
   "metadata": {},
   "outputs": [
    {
     "ename": "NameError",
     "evalue": "name 'cos' is not defined",
     "output_type": "error",
     "traceback": [
      "\u001b[0;31m---------------------------------------------------------------------------\u001b[0m",
      "\u001b[0;31mNameError\u001b[0m                                 Traceback (most recent call last)",
      "\u001b[0;32m<ipython-input-30-8d215ebe8f10>\u001b[0m in \u001b[0;36m<module>\u001b[0;34m\u001b[0m\n\u001b[0;32m----> 1\u001b[0;31m \u001b[0mcos\u001b[0m\u001b[0;34m(\u001b[0m\u001b[0;36m0\u001b[0m\u001b[0;34m)\u001b[0m\u001b[0;34m\u001b[0m\u001b[0;34m\u001b[0m\u001b[0m\n\u001b[0m",
      "\u001b[0;31mNameError\u001b[0m: name 'cos' is not defined"
     ]
    }
   ],
   "source": [
    "cos(0)"
   ]
  },
  {
   "cell_type": "markdown",
   "metadata": {},
   "source": [
    "We see that an error comes up:\n",
    "\n",
    "    NameError: name 'cos' is not defined\n",
    "    \n",
    "The python interpreter is telling us that it does not recognize `cos`.  We have to import the `math` module to use `cos`:"
   ]
  },
  {
   "cell_type": "code",
   "execution_count": 31,
   "metadata": {},
   "outputs": [
    {
     "name": "stdout",
     "output_type": "stream",
     "text": [
      "1.0\n"
     ]
    }
   ],
   "source": [
    "from math import cos\n",
    "print(cos(0))"
   ]
  },
  {
   "cell_type": "markdown",
   "metadata": {},
   "source": [
    "Alternatively you can import the whole math module, which gives you access to all its functionality without having to specify which pieces you wish to use at import:"
   ]
  },
  {
   "cell_type": "code",
   "execution_count": 32,
   "metadata": {},
   "outputs": [
    {
     "name": "stdout",
     "output_type": "stream",
     "text": [
      "1.0\n",
      "0.0\n"
     ]
    }
   ],
   "source": [
    "import math\n",
    "print(math.cos(0))\n",
    "print(math.sin(0))"
   ]
  },
  {
   "cell_type": "markdown",
   "metadata": {},
   "source": [
    "### Note on Euler's Number and Exponents\n",
    "\n",
    "In math and physics, we often need to use the exponential function $f(x) = e^x$; one may be tempted to accomplish this in python by writing `math.e**x` – **DO NOT DO THIS**\n",
    "\n",
    "Instead, the *pythonic* way of doing things is to use the exponential function, which is defined as \n",
    "\n",
    "$$\\exp(x) = e^x$$\n",
    "\n",
    "So if we are interesting in calculating $e^3$, we might be tempted to write `math.e**3`, but we should instead write:"
   ]
  },
  {
   "cell_type": "code",
   "execution_count": 33,
   "metadata": {},
   "outputs": [
    {
     "name": "stdout",
     "output_type": "stream",
     "text": [
      "20.085536923187668\n"
     ]
    }
   ],
   "source": [
    "print(math.exp(3))"
   ]
  },
  {
   "cell_type": "markdown",
   "metadata": {},
   "source": [
    "## Lists\n",
    "\n",
    "So far we've only discussed storing *individual* numbers or strings as variables, but this is extremely limiting.  In practice, programming will often involve the processing of large amounts of numbers – these may be *vectors* such as \n",
    "\n",
    "$$\\vec{v} = \\begin{bmatrix} 1 & 2 & 4 & 8 \\end{bmatrix}$$ \n",
    "\n",
    "or *matrices* such as \n",
    "\n",
    "$$\\mathbf{X} = \\begin{bmatrix} 1 & 2 & 4 & 8 \\\\ 16 & 32 & 64 & 128 \\\\ 256 & 512 & 1024 & 2048 \\end{bmatrix}$$\n",
    "\n",
    "We begin by creating a programmatical representation of $\\vec{v}$:"
   ]
  },
  {
   "cell_type": "code",
   "execution_count": 34,
   "metadata": {},
   "outputs": [
    {
     "name": "stdout",
     "output_type": "stream",
     "text": [
      "type(v) = <class 'list'>\n",
      "     v  = [1, 2, 4, 8]\n"
     ]
    }
   ],
   "source": [
    "v = [1, 2, 4, 8]\n",
    "print(\"type(v) =\", type(v))\n",
    "print(\"     v  =\", v)"
   ]
  },
  {
   "cell_type": "markdown",
   "metadata": {},
   "source": [
    "We see that the array of integers is called a `list`.  These can also be 2-D, 3-D, or more!  But we will focus on 1-D arrays for the time being.\n",
    "\n",
    "The individual numbers in the list are known as list `elements`, and they can be accessed via a process known as `indexing`; in short, each position on the list is assigned an integer starting at zero.  The first element is therefore known to be at index (position) `0`, while the second is at index `1`, the third at index `2`, and so on.\n",
    "\n",
    "Elements are extracted from a list with the syntax `listname[index]`, so if we wish to access the element `4`, we see it is the third element and therefore at index `2`:"
   ]
  },
  {
   "cell_type": "code",
   "execution_count": 35,
   "metadata": {},
   "outputs": [
    {
     "name": "stdout",
     "output_type": "stream",
     "text": [
      "4\n"
     ]
    }
   ],
   "source": [
    "print(v[2])"
   ]
  },
  {
   "cell_type": "markdown",
   "metadata": {},
   "source": [
    "`list` objects can also contain *strings*, *floats*, *booleans*, or any other object; for example:"
   ]
  },
  {
   "cell_type": "code",
   "execution_count": 36,
   "metadata": {},
   "outputs": [
    {
     "name": "stdout",
     "output_type": "stream",
     "text": [
      "[1, 2.0, -320000.0, True, False, 'Hello', 'goodbye']\n",
      "Hello goodbye\n"
     ]
    }
   ],
   "source": [
    "new_list = [1, 2.0, -3.2E5, True, False, \"Hello\", \"goodbye\"]\n",
    "print(new_list)\n",
    "print(new_list[5], new_list[6])"
   ]
  },
  {
   "cell_type": "markdown",
   "metadata": {},
   "source": [
    "They can even contain other lists!  This is how multidimensional arrays are made, but we will cover this later.\n",
    "\n",
    "### List Methods\n",
    "\n",
    "Lists are a *mutable* type, meaning that they can be changed after declaration – one consequence is that we may add values to a list using the `append` method.  Assuming we are given a list containing the elements `[1,2,3]`, we can append a value `4` via:"
   ]
  },
  {
   "cell_type": "code",
   "execution_count": 37,
   "metadata": {},
   "outputs": [
    {
     "name": "stdout",
     "output_type": "stream",
     "text": [
      "[1, 2, 3]\n",
      "[1, 2, 3, 4]\n"
     ]
    }
   ],
   "source": [
    "x = [1,2,3]\n",
    "print(x)\n",
    "x.append(4)\n",
    "print(x)"
   ]
  },
  {
   "cell_type": "markdown",
   "metadata": {},
   "source": [
    "We can also check how many elements are contained in a list with the `len` function:"
   ]
  },
  {
   "cell_type": "code",
   "execution_count": 38,
   "metadata": {},
   "outputs": [
    {
     "name": "stdout",
     "output_type": "stream",
     "text": [
      "4\n"
     ]
    }
   ],
   "source": [
    "print(len(x))"
   ]
  },
  {
   "cell_type": "markdown",
   "metadata": {},
   "source": [
    "## Tuples\n",
    "\n",
    "Tuples are another type, similar to lists in the sense that they may contain mutliple values.  On the other hand, they behave differently in a very important sense – tuples are an *immutable* type, which means they cannot be modified in any way after being declared.  This means that values cannot be *appended* to a tuple, nor can an existing value be modified in-place.\n",
    "\n",
    "When declaring a variable of type `tuple`, we use parentheses instead of square brackets:"
   ]
  },
  {
   "cell_type": "code",
   "execution_count": 39,
   "metadata": {},
   "outputs": [
    {
     "name": "stdout",
     "output_type": "stream",
     "text": [
      "(1, 2, 3)\n"
     ]
    }
   ],
   "source": [
    "x = (1, 2, 3)\n",
    "print(x)"
   ]
  },
  {
   "cell_type": "markdown",
   "metadata": {},
   "source": [
    "## Loops\n",
    "\n",
    "One of the most powerful tools in programming is the ability to repeat commands while varying them ever so slightly.  This has applications in *everything*, so it is recommended that you familiarize yourselves with loops as soon as possible!\n",
    "\n",
    "There are two types of loops – `for` loops, and `while` loops.  We will begin with `for` loops, which perform a set of commands a predetermined number of times.\n",
    "\n",
    "### For-Loops\n",
    "\n",
    "At its most basic, we see the following example:"
   ]
  },
  {
   "cell_type": "code",
   "execution_count": 40,
   "metadata": {},
   "outputs": [
    {
     "name": "stdout",
     "output_type": "stream",
     "text": [
      "0\n",
      "1\n",
      "2\n",
      "3\n",
      "4\n",
      "5\n",
      "6\n",
      "7\n",
      "8\n",
      "9\n"
     ]
    }
   ],
   "source": [
    "for i in range(10):\n",
    "    print(i)"
   ]
  },
  {
   "cell_type": "markdown",
   "metadata": {},
   "source": [
    "In plain language, we are telling python that we wish to print the *iteration variable* named `i` a total of 10 times, starting with `i = 0` and increasing the value of `i` by *one* after each time we print.\n",
    "\n",
    "We can be more specific with regards to what values `i` takes by using the syntax `range(start, stop, step)`.  For example, if we wish to *start* at the number `3`, end at number `30`, and increase the number by `3` during each step, we can write:"
   ]
  },
  {
   "cell_type": "code",
   "execution_count": 41,
   "metadata": {},
   "outputs": [
    {
     "name": "stdout",
     "output_type": "stream",
     "text": [
      "3\n",
      "6\n",
      "9\n",
      "12\n",
      "15\n",
      "18\n",
      "21\n",
      "24\n",
      "27\n",
      "30\n"
     ]
    }
   ],
   "source": [
    "for i in range(3, 31, 3):\n",
    "    print(i)"
   ]
  },
  {
   "cell_type": "markdown",
   "metadata": {},
   "source": [
    "Note that the `stop` value must be *one number larger* than the desired final number.\n",
    "\n",
    "We can perform other operations, such as taking a sum of all numbers from one to one-hundred:"
   ]
  },
  {
   "cell_type": "code",
   "execution_count": 42,
   "metadata": {},
   "outputs": [
    {
     "name": "stdout",
     "output_type": "stream",
     "text": [
      "5050\n"
     ]
    }
   ],
   "source": [
    "total = 0\n",
    "for i in range(101):\n",
    "    total = total + i\n",
    "print(total)"
   ]
  },
  {
   "cell_type": "markdown",
   "metadata": {},
   "source": [
    "We can also use `for` loops to traverse, or \"iterate through\" the elements of a list!  Say we wish to print out the elements of a vector \n",
    "\n",
    "$$\\vec{v} = \\begin{bmatrix} 1 & 2 & 4 & 8 & 16 & 32 & 64 & 128 \\end{bmatrix}$$\n",
    "\n",
    "We can then omit the `range(start, stop, step)` term entirely and simply do the following:"
   ]
  },
  {
   "cell_type": "code",
   "execution_count": 43,
   "metadata": {},
   "outputs": [
    {
     "name": "stdout",
     "output_type": "stream",
     "text": [
      "1\n",
      "2\n",
      "4\n",
      "8\n",
      "16\n",
      "32\n",
      "64\n",
      "128\n"
     ]
    }
   ],
   "source": [
    "v = [1, 2, 4, 8, 16, 32, 64, 128]\n",
    "for i in v:\n",
    "    print(i)"
   ]
  },
  {
   "cell_type": "markdown",
   "metadata": {},
   "source": [
    "### While-Loops"
   ]
  },
  {
   "cell_type": "markdown",
   "metadata": {},
   "source": [
    "As mentioned previously, `for` loops will run a predetermined number of iterations.  If we wish to run a *dynamic* number of iterations (i.e. a *variable* number of repetitions) we must use a `while` loop.\n",
    "\n",
    "The basic concept of a `while` loops is that, as long as a condition is `True`, it will keep repeating.  Here is an example equivalent to the first `for` loop example:"
   ]
  },
  {
   "cell_type": "code",
   "execution_count": 44,
   "metadata": {},
   "outputs": [
    {
     "name": "stdout",
     "output_type": "stream",
     "text": [
      "0\n",
      "1\n",
      "2\n",
      "3\n",
      "4\n",
      "5\n",
      "6\n",
      "7\n",
      "8\n",
      "9\n"
     ]
    }
   ],
   "source": [
    "i = 0\n",
    "while i < 10:\n",
    "    print(i)\n",
    "    i = i + 1"
   ]
  },
  {
   "cell_type": "markdown",
   "metadata": {},
   "source": [
    "In the above, we begin by declaring a variable `i = 0`, which will be the loop's iteration variable.  Next, we say that *as long as i is smaller than 10*, we will:\n",
    "\n",
    "1. Print out the value of `i` to the terminal\n",
    "2. Increase the value of `i` by *one*\n",
    "\n",
    "As a result, it stops this process after ten iterations."
   ]
  },
  {
   "cell_type": "markdown",
   "metadata": {},
   "source": [
    "# Functions\n",
    "\n",
    "Sometimes, it is necessary to reuse a piece of code several times – what if, for example, we wish to implement the equation $f(x) = 1 + x^2 + \\frac{1}{2} x^3$ in python multiple times, at various points in the program?\n",
    "\n",
    "Rather than rewriting complex pieces of code, we can write it a *single time* and refer to it multiple times.  A basic example of this is as follows:"
   ]
  },
  {
   "cell_type": "code",
   "execution_count": 45,
   "metadata": {},
   "outputs": [
    {
     "name": "stdout",
     "output_type": "stream",
     "text": [
      "23.5\n",
      "-15.0\n"
     ]
    }
   ],
   "source": [
    "def f(x):\n",
    "    print(1 + x**2 + 0.5*x**3)\n",
    "    \n",
    "f(3)\n",
    "f(-4)"
   ]
  },
  {
   "cell_type": "markdown",
   "metadata": {},
   "source": [
    "What we've done is created a **function** named `f`, which accepts an **argument** `x`, and uses this to calculate $1 + x^2 + \\frac{1}{2} x^3$ and prints the result.\n",
    "\n",
    "Rather than simply *printing* the result, it is better practice to **return** a value from the function, so that we can use it *outside* of the function:"
   ]
  },
  {
   "cell_type": "code",
   "execution_count": 46,
   "metadata": {},
   "outputs": [
    {
     "name": "stdout",
     "output_type": "stream",
     "text": [
      "23.5\n",
      "-15.0\n"
     ]
    }
   ],
   "source": [
    "def f(x):\n",
    "    return 1 + x**2 + 0.5*x**3\n",
    "    \n",
    "a = f(3)\n",
    "b = f(-4)\n",
    "\n",
    "print(a)\n",
    "print(b)"
   ]
  },
  {
   "cell_type": "markdown",
   "metadata": {},
   "source": [
    "We can also create functions that *accept* multiple values, and/or *return* multiple values, such as:\n",
    "\n",
    "$$F(x,y) = \\begin{bmatrix} x^2 y^2 & 2x - y \\end{bmatrix}$$\n",
    "\n",
    "Functions that return multiple comma-separated values will return these values as a `tuple`."
   ]
  },
  {
   "cell_type": "code",
   "execution_count": 47,
   "metadata": {},
   "outputs": [
    {
     "name": "stdout",
     "output_type": "stream",
     "text": [
      "a = 4\n",
      "b = 0\n"
     ]
    }
   ],
   "source": [
    "def F(x,y):\n",
    "    return x**2*y**2, 2*x-y\n",
    "\n",
    "(a, b) = F(1, 2)\n",
    "print(\"a =\", a)\n",
    "print(\"b =\", b)"
   ]
  },
  {
   "cell_type": "markdown",
   "metadata": {},
   "source": [
    "And we can even use them in loops!  The following is an example of a **nested loop**, which we will get back to later.  In short, this will loop through the values $0, 1, 2, 3$ a total of $3$ times:"
   ]
  },
  {
   "cell_type": "code",
   "execution_count": 48,
   "metadata": {},
   "outputs": [
    {
     "name": "stdout",
     "output_type": "stream",
     "text": [
      "F(0,0) = (0, 0)\n",
      "F(0,1) = (0, -1)\n",
      "F(0,2) = (0, -2)\n",
      "F(0,3) = (0, -3)\n",
      "F(1,0) = (0, 2)\n",
      "F(1,1) = (1, 1)\n",
      "F(1,2) = (4, 0)\n",
      "F(1,3) = (9, -1)\n",
      "F(2,0) = (0, 4)\n",
      "F(2,1) = (4, 3)\n",
      "F(2,2) = (16, 2)\n",
      "F(2,3) = (36, 1)\n"
     ]
    }
   ],
   "source": [
    "for i in range(3):\n",
    "    for j in range(4):\n",
    "        print(f\"F({i},{j}) =\", F(i,j))"
   ]
  },
  {
   "cell_type": "markdown",
   "metadata": {},
   "source": [
    "Functions do not *need* to return variables necessarily, as we see in the following example:"
   ]
  },
  {
   "cell_type": "code",
   "execution_count": 49,
   "metadata": {},
   "outputs": [
    {
     "name": "stdout",
     "output_type": "stream",
     "text": [
      "5\n"
     ]
    }
   ],
   "source": [
    "def f(x):\n",
    "    print(x+2)\n",
    "    \n",
    "f(3)"
   ]
  },
  {
   "cell_type": "markdown",
   "metadata": {},
   "source": [
    "Note in the above that we called the `print` command *within* the function, since there is no output returned from the function we do not need to explicitly print `f(3)`.\n",
    "\n",
    "The moral of the story is:  (almost) anything that can be done outside of a function, can occur *inside* a function.  However, we must keep program *scope* in mind.\n",
    "\n",
    "### Local and Global Variables\n",
    "\n",
    "When declaring variables in the way we've done so far, we've been executing the variable declarations in the main program – this is also known as the *global namespace* of the program.  However, it is also possible to declare variables within functions; this often leads to trouble for beginners, because variables declared *within* functions are **inaccessible** outside of the functions unless they are *explicitly returned*.\n",
    "\n",
    "We can see that this is the case with a simple example:"
   ]
  },
  {
   "cell_type": "code",
   "execution_count": 50,
   "metadata": {},
   "outputs": [
    {
     "name": "stdout",
     "output_type": "stream",
     "text": [
      "A 5\n",
      "B 3\n",
      "C 5\n"
     ]
    }
   ],
   "source": [
    "x = 5\n",
    "print(\"A\", x)\n",
    "\n",
    "def f(y):\n",
    "    x = 3\n",
    "    print(\"B\", x)\n",
    "    \n",
    "f(4)\n",
    "print(\"C\", x)"
   ]
  },
  {
   "cell_type": "markdown",
   "metadata": {},
   "source": [
    "We see that even though we declared `x = 5` in the *global namespace*, we were able to override it in the function's *local namespace*.  However, the value of `x` in the global namespace was not changed once we exited the function.\n",
    "\n",
    "Not paying attention to your namespace can lead to trouble in many cases, so be aware of *where* you declare your variables, and whether or not they are inside of functions, or in the main program."
   ]
  },
  {
   "cell_type": "markdown",
   "metadata": {},
   "source": [
    "# If Statements\n",
    "\n",
    "Oftentimes, we will need to create a \"fork in the road\" (so-to-speak) in a program, whereby one condition leads to a specific conclusion, while another leads to an alternate conclusion.\n",
    "\n",
    "This is accomplished by the usage of an `if` statement; suppose that we are given a number `x`, and we wish to print `A` if $x < 5$:"
   ]
  },
  {
   "cell_type": "code",
   "execution_count": 51,
   "metadata": {},
   "outputs": [
    {
     "name": "stdout",
     "output_type": "stream",
     "text": [
      "A\n"
     ]
    }
   ],
   "source": [
    "x = 3.14\n",
    "\n",
    "if x < 5:\n",
    "    print(\"A\")"
   ]
  },
  {
   "cell_type": "markdown",
   "metadata": {},
   "source": [
    "Setting $x = 6$ yields nothing in this case:"
   ]
  },
  {
   "cell_type": "code",
   "execution_count": 52,
   "metadata": {},
   "outputs": [],
   "source": [
    "x = 6\n",
    "\n",
    "if x < 5:\n",
    "    print(\"A\")"
   ]
  },
  {
   "cell_type": "markdown",
   "metadata": {},
   "source": [
    "What if we wish to print `B` if $x > 5$?  We can accomplish this by adding an `elif` clause:"
   ]
  },
  {
   "cell_type": "code",
   "execution_count": 53,
   "metadata": {},
   "outputs": [
    {
     "name": "stdout",
     "output_type": "stream",
     "text": [
      "B\n"
     ]
    }
   ],
   "source": [
    "x = 6\n",
    "\n",
    "if x < 5:\n",
    "    print(\"A\")\n",
    "elif x > 5:\n",
    "    print(\"B\")"
   ]
  },
  {
   "cell_type": "markdown",
   "metadata": {},
   "source": [
    "But what if $x = 5$? This is not taken care of in the above scenario.  To account for any other situations, we can use `else`: "
   ]
  },
  {
   "cell_type": "code",
   "execution_count": 54,
   "metadata": {},
   "outputs": [
    {
     "name": "stdout",
     "output_type": "stream",
     "text": [
      "C\n"
     ]
    }
   ],
   "source": [
    "x = 5\n",
    "\n",
    "if x < 5:\n",
    "    print(\"A\")\n",
    "elif x > 5:\n",
    "    print(\"B\")\n",
    "else:\n",
    "    print(\"C\")"
   ]
  }
 ],
 "metadata": {
  "kernelspec": {
   "display_name": "Python 3",
   "language": "python",
   "name": "python3"
  },
  "language_info": {
   "codemirror_mode": {
    "name": "ipython",
    "version": 3
   },
   "file_extension": ".py",
   "mimetype": "text/x-python",
   "name": "python",
   "nbconvert_exporter": "python",
   "pygments_lexer": "ipython3",
   "version": "3.6.8"
  }
 },
 "nbformat": 4,
 "nbformat_minor": 4
}
